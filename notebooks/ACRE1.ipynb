{
 "cells": [
  {
   "cell_type": "code",
   "execution_count": 1,
   "metadata": {},
   "outputs": [
    {
     "name": "stderr",
     "output_type": "stream",
     "text": [
      "/home/lkshiel/.conda/envs/python3/lib/python3.8/site-packages/outdated/utils.py:14: OutdatedPackageWarning: The package pingouin is out of date. Your version is 0.3.4, the latest is 0.3.8.\n",
      "Set the environment variable OUTDATED_IGNORE=1 to disable these warnings.\n",
      "  return warn(\n"
     ]
    }
   ],
   "source": [
    "import sys\n",
    "import os\n",
    "import numpy as np\n",
    "import pandas as pd\n",
    "import seaborn as sns\n",
    "import matplotlib.pyplot as plt\n",
    "from scipy import stats\n",
    "import statsmodels.api as sms\n",
    "from scipy.stats import pearsonr\n",
    "import pingouin as pg\n",
    "from functools import reduce"
   ]
  },
  {
   "cell_type": "markdown",
   "metadata": {},
   "source": [
    "# Tannin data"
   ]
  },
  {
   "cell_type": "code",
   "execution_count": 2,
   "metadata": {},
   "outputs": [
    {
     "name": "stdout",
     "output_type": "stream",
     "text": [
      "            Tannin\n",
      "taxa              \n",
      "PI152651   9.17200\n",
      "PI17548   35.49000\n",
      "PI24969   -2.78700\n",
      "PI329435  -0.48000\n",
      "PI329440  -8.63350\n",
      "...            ...\n",
      "PI659691  -0.31350\n",
      "PI659694   0.28400\n",
      "PI659695  -4.79250\n",
      "PI659696  31.03350\n",
      "PI659753  -9.17675\n",
      "\n",
      "[368 rows x 1 columns]\n",
      "0\n"
     ]
    },
    {
     "name": "stderr",
     "output_type": "stream",
     "text": [
      "/home/lkshiel/.conda/envs/python3/lib/python3.8/site-packages/outdated/utils.py:14: OutdatedPackageWarning: The package pingouin is out of date. Your version is 0.3.4, the latest is 0.3.7.\n",
      "Set the environment variable OUTDATED_IGNORE=1 to disable these warnings.\n",
      "  return warn(\n"
     ]
    }
   ],
   "source": [
    "tan14 = pd.read_csv(\"../data/nir_SC_2014.txt\", sep='\\t', lineterminator='\\n')\n",
    "tan14 = tan14[[\"taxa\", \"Tannin\"]]\n",
    "tan14_mean = tan14.groupby(\"taxa\").mean()\n",
    "print(tan14_mean)\n",
    "tan14_mean_zeroFilter = tan14_mean.loc[tan14_mean.Tannin < 0, \"Tannin\"] = 0\n",
    "print(tan14_mean_zeroFilter)"
   ]
  },
  {
   "cell_type": "code",
   "execution_count": 3,
   "metadata": {},
   "outputs": [
    {
     "name": "stdout",
     "output_type": "stream",
     "text": [
      "          Tannins\n",
      "taxa             \n",
      "PI152651   3.4160\n",
      "PI17548   21.8940\n",
      "PI24969    0.0000\n",
      "PI329440   0.0000\n",
      "PI34911   13.2790\n",
      "...           ...\n",
      "PI659691   0.0000\n",
      "PI659694   0.0000\n",
      "PI659695   0.0000\n",
      "PI659696  29.5875\n",
      "PI659753   0.0000\n",
      "\n",
      "[333 rows x 1 columns]\n"
     ]
    }
   ],
   "source": [
    "tan13 = pd.read_csv(\"../data/nir_SC_2013.txt\", sep='\\t', lineterminator='\\n')\n",
    "tan13 = tan13[[\"taxa\", \"Tannins\"]]\n",
    "tan13_mean = tan13.groupby(\"taxa\").mean()\n",
    "print(tan13_mean)"
   ]
  },
  {
   "cell_type": "code",
   "execution_count": 4,
   "metadata": {},
   "outputs": [
    {
     "name": "stdout",
     "output_type": "stream",
     "text": [
      "(327, 2)\n"
     ]
    },
    {
     "data": {
      "text/html": [
       "<div>\n",
       "<style scoped>\n",
       "    .dataframe tbody tr th:only-of-type {\n",
       "        vertical-align: middle;\n",
       "    }\n",
       "\n",
       "    .dataframe tbody tr th {\n",
       "        vertical-align: top;\n",
       "    }\n",
       "\n",
       "    .dataframe thead th {\n",
       "        text-align: right;\n",
       "    }\n",
       "</style>\n",
       "<table border=\"1\" class=\"dataframe\">\n",
       "  <thead>\n",
       "    <tr style=\"text-align: right;\">\n",
       "      <th></th>\n",
       "      <th>Tan_14</th>\n",
       "      <th>Tan_13</th>\n",
       "    </tr>\n",
       "    <tr>\n",
       "      <th>taxa</th>\n",
       "      <th></th>\n",
       "      <th></th>\n",
       "    </tr>\n",
       "  </thead>\n",
       "  <tbody>\n",
       "    <tr>\n",
       "      <th>PI152651</th>\n",
       "      <td>9.172</td>\n",
       "      <td>3.416</td>\n",
       "    </tr>\n",
       "    <tr>\n",
       "      <th>PI17548</th>\n",
       "      <td>35.490</td>\n",
       "      <td>21.894</td>\n",
       "    </tr>\n",
       "    <tr>\n",
       "      <th>PI24969</th>\n",
       "      <td>0.000</td>\n",
       "      <td>0.000</td>\n",
       "    </tr>\n",
       "    <tr>\n",
       "      <th>PI329440</th>\n",
       "      <td>0.000</td>\n",
       "      <td>0.000</td>\n",
       "    </tr>\n",
       "    <tr>\n",
       "      <th>PI34911</th>\n",
       "      <td>5.160</td>\n",
       "      <td>13.279</td>\n",
       "    </tr>\n",
       "  </tbody>\n",
       "</table>\n",
       "</div>"
      ],
      "text/plain": [
       "          Tan_14  Tan_13\n",
       "taxa                    \n",
       "PI152651   9.172   3.416\n",
       "PI17548   35.490  21.894\n",
       "PI24969    0.000   0.000\n",
       "PI329440   0.000   0.000\n",
       "PI34911    5.160  13.279"
      ]
     },
     "execution_count": 4,
     "metadata": {},
     "output_type": "execute_result"
    }
   ],
   "source": [
    "dfs = [tan14_mean, tan13_mean]\n",
    "all_tan = reduce(lambda left, right: pd.merge(left, right, on = \"taxa\"), dfs)\n",
    "all_tan = all_tan.rename(columns = {'taxa':'PI',\n",
    "                                    'Tannin':'Tan_14', 'Tannins':'Tan_13'})\n",
    "print(all_tan.shape)\n",
    "all_tan.head()"
   ]
  },
  {
   "cell_type": "markdown",
   "metadata": {},
   "source": [
    "# Clostridium "
   ]
  },
  {
   "cell_type": "code",
   "execution_count": 16,
   "metadata": {},
   "outputs": [
    {
     "data": {
      "text/html": [
       "<div>\n",
       "<style scoped>\n",
       "    .dataframe tbody tr th:only-of-type {\n",
       "        vertical-align: middle;\n",
       "    }\n",
       "\n",
       "    .dataframe tbody tr th {\n",
       "        vertical-align: top;\n",
       "    }\n",
       "\n",
       "    .dataframe thead th {\n",
       "        text-align: right;\n",
       "    }\n",
       "</style>\n",
       "<table border=\"1\" class=\"dataframe\">\n",
       "  <thead>\n",
       "    <tr style=\"text-align: right;\">\n",
       "      <th></th>\n",
       "      <th>Unnamed: 0</th>\n",
       "      <th>Sample ID</th>\n",
       "      <th>TP_r1</th>\n",
       "      <th>TP_r2</th>\n",
       "      <th>TP_avg</th>\n",
       "      <th>cp_inhibitionZone</th>\n",
       "      <th>cp_AMA</th>\n",
       "      <th>PI</th>\n",
       "      <th>Race</th>\n",
       "      <th>Origin</th>\n",
       "      <th>Common</th>\n",
       "      <th>Pericarp</th>\n",
       "      <th>Testa</th>\n",
       "      <th>Tannins</th>\n",
       "    </tr>\n",
       "  </thead>\n",
       "  <tbody>\n",
       "    <tr>\n",
       "      <th>0</th>\n",
       "      <td>0</td>\n",
       "      <td>p0101-M1</td>\n",
       "      <td>412.005</td>\n",
       "      <td>&gt;420.000</td>\n",
       "      <td>412.0050</td>\n",
       "      <td>0</td>\n",
       "      <td>0.0</td>\n",
       "      <td>PI533876</td>\n",
       "      <td>Caudatum</td>\n",
       "      <td>Nigeria</td>\n",
       "      <td>KA 12 Janjari</td>\n",
       "      <td>R</td>\n",
       "      <td>1.0</td>\n",
       "      <td>0</td>\n",
       "    </tr>\n",
       "    <tr>\n",
       "      <th>1</th>\n",
       "      <td>1</td>\n",
       "      <td>p0101-M2</td>\n",
       "      <td>320.088</td>\n",
       "      <td>325.318</td>\n",
       "      <td>322.7030</td>\n",
       "      <td>0</td>\n",
       "      <td>0.0</td>\n",
       "      <td>PI656116</td>\n",
       "      <td>NaN</td>\n",
       "      <td>Mali</td>\n",
       "      <td>SC 1506</td>\n",
       "      <td>R</td>\n",
       "      <td>1.0</td>\n",
       "      <td>0</td>\n",
       "    </tr>\n",
       "    <tr>\n",
       "      <th>2</th>\n",
       "      <td>2</td>\n",
       "      <td>p0102-M1</td>\n",
       "      <td>&gt;420.000</td>\n",
       "      <td>&gt;420.000</td>\n",
       "      <td>420.0000</td>\n",
       "      <td>0</td>\n",
       "      <td>0.0</td>\n",
       "      <td>PI576350</td>\n",
       "      <td>Kafir-Caudatum</td>\n",
       "      <td>USA</td>\n",
       "      <td>SAP-417</td>\n",
       "      <td>R</td>\n",
       "      <td>1.0</td>\n",
       "      <td>4</td>\n",
       "    </tr>\n",
       "    <tr>\n",
       "      <th>3</th>\n",
       "      <td>3</td>\n",
       "      <td>p0102-M2</td>\n",
       "      <td>&gt;420.000</td>\n",
       "      <td>&gt;420.000</td>\n",
       "      <td>420.0000</td>\n",
       "      <td>0</td>\n",
       "      <td>0.0</td>\n",
       "      <td>PI641849</td>\n",
       "      <td>NaN</td>\n",
       "      <td>NaN</td>\n",
       "      <td>WACONIA</td>\n",
       "      <td>R</td>\n",
       "      <td>1.0</td>\n",
       "      <td>22.7</td>\n",
       "    </tr>\n",
       "    <tr>\n",
       "      <th>4</th>\n",
       "      <td>4</td>\n",
       "      <td>p0103-M2</td>\n",
       "      <td>413.011</td>\n",
       "      <td>414.75</td>\n",
       "      <td>413.8805</td>\n",
       "      <td>0</td>\n",
       "      <td>0.0</td>\n",
       "      <td>PI533877</td>\n",
       "      <td>Caudatum</td>\n",
       "      <td>Nigeria</td>\n",
       "      <td>KA 15 Yazgar Giwa</td>\n",
       "      <td>W</td>\n",
       "      <td>0.0</td>\n",
       "      <td>ND</td>\n",
       "    </tr>\n",
       "  </tbody>\n",
       "</table>\n",
       "</div>"
      ],
      "text/plain": [
       "   Unnamed: 0 Sample ID     TP_r1     TP_r2    TP_avg cp_inhibitionZone  \\\n",
       "0           0  p0101-M1   412.005  >420.000  412.0050                 0   \n",
       "1           1  p0101-M2   320.088   325.318  322.7030                 0   \n",
       "2           2  p0102-M1  >420.000  >420.000  420.0000                 0   \n",
       "3           3  p0102-M2  >420.000  >420.000  420.0000                 0   \n",
       "4           4  p0103-M2   413.011    414.75  413.8805                 0   \n",
       "\n",
       "   cp_AMA        PI            Race   Origin             Common Pericarp  \\\n",
       "0     0.0  PI533876        Caudatum  Nigeria      KA 12 Janjari        R   \n",
       "1     0.0  PI656116             NaN     Mali            SC 1506        R   \n",
       "2     0.0  PI576350  Kafir-Caudatum      USA            SAP-417        R   \n",
       "3     0.0  PI641849             NaN      NaN            WACONIA        R   \n",
       "4     0.0  PI533877        Caudatum  Nigeria  KA 15 Yazgar Giwa        W   \n",
       "\n",
       "   Testa Tannins  \n",
       "0    1.0       0  \n",
       "1    1.0       0  \n",
       "2    1.0       4  \n",
       "3    1.0    22.7  \n",
       "4    0.0      ND  "
      ]
     },
     "execution_count": 16,
     "metadata": {},
     "output_type": "execute_result"
    }
   ],
   "source": [
    "clostridium_df = pd.read_excel(\"../data/Supplemental_F2.xlsx\", sheet_name= \"Clostridium\")\n",
    "clostridium_df.head()"
   ]
  },
  {
   "cell_type": "code",
   "execution_count": 17,
   "metadata": {},
   "outputs": [
    {
     "data": {
      "text/html": [
       "<div>\n",
       "<style scoped>\n",
       "    .dataframe tbody tr th:only-of-type {\n",
       "        vertical-align: middle;\n",
       "    }\n",
       "\n",
       "    .dataframe tbody tr th {\n",
       "        vertical-align: top;\n",
       "    }\n",
       "\n",
       "    .dataframe thead th {\n",
       "        text-align: right;\n",
       "    }\n",
       "</style>\n",
       "<table border=\"1\" class=\"dataframe\">\n",
       "  <thead>\n",
       "    <tr style=\"text-align: right;\">\n",
       "      <th></th>\n",
       "      <th>cp_AMA</th>\n",
       "      <th>PI</th>\n",
       "      <th>Testa</th>\n",
       "      <th>TP_avg</th>\n",
       "    </tr>\n",
       "  </thead>\n",
       "  <tbody>\n",
       "    <tr>\n",
       "      <th>0</th>\n",
       "      <td>0.0</td>\n",
       "      <td>PI533876</td>\n",
       "      <td>1.0</td>\n",
       "      <td>412.0050</td>\n",
       "    </tr>\n",
       "    <tr>\n",
       "      <th>1</th>\n",
       "      <td>0.0</td>\n",
       "      <td>PI656116</td>\n",
       "      <td>1.0</td>\n",
       "      <td>322.7030</td>\n",
       "    </tr>\n",
       "    <tr>\n",
       "      <th>2</th>\n",
       "      <td>0.0</td>\n",
       "      <td>PI576350</td>\n",
       "      <td>1.0</td>\n",
       "      <td>420.0000</td>\n",
       "    </tr>\n",
       "    <tr>\n",
       "      <th>3</th>\n",
       "      <td>0.0</td>\n",
       "      <td>PI641849</td>\n",
       "      <td>1.0</td>\n",
       "      <td>420.0000</td>\n",
       "    </tr>\n",
       "    <tr>\n",
       "      <th>4</th>\n",
       "      <td>0.0</td>\n",
       "      <td>PI533877</td>\n",
       "      <td>0.0</td>\n",
       "      <td>413.8805</td>\n",
       "    </tr>\n",
       "  </tbody>\n",
       "</table>\n",
       "</div>"
      ],
      "text/plain": [
       "   cp_AMA        PI  Testa    TP_avg\n",
       "0     0.0  PI533876    1.0  412.0050\n",
       "1     0.0  PI656116    1.0  322.7030\n",
       "2     0.0  PI576350    1.0  420.0000\n",
       "3     0.0  PI641849    1.0  420.0000\n",
       "4     0.0  PI533877    0.0  413.8805"
      ]
     },
     "execution_count": 17,
     "metadata": {},
     "output_type": "execute_result"
    }
   ],
   "source": [
    "clostridium_df = clostridium_df[[\"cp_AMA\", \"PI\",\"Testa\",\"TP_avg\"]]\n",
    "clostridium_df.head()"
   ]
  },
  {
   "cell_type": "code",
   "execution_count": 18,
   "metadata": {},
   "outputs": [
    {
     "data": {
      "text/html": [
       "<div>\n",
       "<style scoped>\n",
       "    .dataframe tbody tr th:only-of-type {\n",
       "        vertical-align: middle;\n",
       "    }\n",
       "\n",
       "    .dataframe tbody tr th {\n",
       "        vertical-align: top;\n",
       "    }\n",
       "\n",
       "    .dataframe thead th {\n",
       "        text-align: right;\n",
       "    }\n",
       "</style>\n",
       "<table border=\"1\" class=\"dataframe\">\n",
       "  <thead>\n",
       "    <tr style=\"text-align: right;\">\n",
       "      <th></th>\n",
       "      <th>PI</th>\n",
       "      <th>cp_AMA</th>\n",
       "      <th>Testa</th>\n",
       "      <th>TP_avg</th>\n",
       "    </tr>\n",
       "  </thead>\n",
       "  <tbody>\n",
       "    <tr>\n",
       "      <th>0</th>\n",
       "      <td>PI152651</td>\n",
       "      <td>0.000</td>\n",
       "      <td>1.0</td>\n",
       "      <td>294.73100</td>\n",
       "    </tr>\n",
       "    <tr>\n",
       "      <th>1</th>\n",
       "      <td>PI17548</td>\n",
       "      <td>0.000</td>\n",
       "      <td>0.0</td>\n",
       "      <td>420.00000</td>\n",
       "    </tr>\n",
       "    <tr>\n",
       "      <th>2</th>\n",
       "      <td>PI24969</td>\n",
       "      <td>1.775</td>\n",
       "      <td>0.0</td>\n",
       "      <td>292.25900</td>\n",
       "    </tr>\n",
       "    <tr>\n",
       "      <th>3</th>\n",
       "      <td>PI329435</td>\n",
       "      <td>1.775</td>\n",
       "      <td>0.0</td>\n",
       "      <td>210.67500</td>\n",
       "    </tr>\n",
       "    <tr>\n",
       "      <th>4</th>\n",
       "      <td>PI329440</td>\n",
       "      <td>4.400</td>\n",
       "      <td>0.0</td>\n",
       "      <td>275.53875</td>\n",
       "    </tr>\n",
       "  </tbody>\n",
       "</table>\n",
       "</div>"
      ],
      "text/plain": [
       "         PI  cp_AMA  Testa     TP_avg\n",
       "0  PI152651   0.000    1.0  294.73100\n",
       "1   PI17548   0.000    0.0  420.00000\n",
       "2   PI24969   1.775    0.0  292.25900\n",
       "3  PI329435   1.775    0.0  210.67500\n",
       "4  PI329440   4.400    0.0  275.53875"
      ]
     },
     "execution_count": 18,
     "metadata": {},
     "output_type": "execute_result"
    }
   ],
   "source": [
    "ama_mean = clostridium_df.groupby(\"PI\").mean()\n",
    "ama_mean.reset_index(inplace=True)\n",
    "ama_mean.head()"
   ]
  },
  {
   "cell_type": "code",
   "execution_count": 19,
   "metadata": {},
   "outputs": [
    {
     "data": {
      "text/html": [
       "<div>\n",
       "<style scoped>\n",
       "    .dataframe tbody tr th:only-of-type {\n",
       "        vertical-align: middle;\n",
       "    }\n",
       "\n",
       "    .dataframe tbody tr th {\n",
       "        vertical-align: top;\n",
       "    }\n",
       "\n",
       "    .dataframe thead th {\n",
       "        text-align: right;\n",
       "    }\n",
       "</style>\n",
       "<table border=\"1\" class=\"dataframe\">\n",
       "  <thead>\n",
       "    <tr style=\"text-align: right;\">\n",
       "      <th></th>\n",
       "      <th>Tan_14</th>\n",
       "      <th>Tan_13</th>\n",
       "      <th>PI</th>\n",
       "      <th>cp_AMA</th>\n",
       "      <th>Testa</th>\n",
       "      <th>TP_avg</th>\n",
       "    </tr>\n",
       "  </thead>\n",
       "  <tbody>\n",
       "    <tr>\n",
       "      <th>0</th>\n",
       "      <td>9.172</td>\n",
       "      <td>3.416</td>\n",
       "      <td>PI152651</td>\n",
       "      <td>0.000</td>\n",
       "      <td>1.0</td>\n",
       "      <td>294.73100</td>\n",
       "    </tr>\n",
       "    <tr>\n",
       "      <th>1</th>\n",
       "      <td>35.490</td>\n",
       "      <td>21.894</td>\n",
       "      <td>PI17548</td>\n",
       "      <td>0.000</td>\n",
       "      <td>0.0</td>\n",
       "      <td>420.00000</td>\n",
       "    </tr>\n",
       "    <tr>\n",
       "      <th>2</th>\n",
       "      <td>0.000</td>\n",
       "      <td>0.000</td>\n",
       "      <td>PI24969</td>\n",
       "      <td>1.775</td>\n",
       "      <td>0.0</td>\n",
       "      <td>292.25900</td>\n",
       "    </tr>\n",
       "    <tr>\n",
       "      <th>3</th>\n",
       "      <td>0.000</td>\n",
       "      <td>0.000</td>\n",
       "      <td>PI329440</td>\n",
       "      <td>4.400</td>\n",
       "      <td>0.0</td>\n",
       "      <td>275.53875</td>\n",
       "    </tr>\n",
       "    <tr>\n",
       "      <th>4</th>\n",
       "      <td>5.160</td>\n",
       "      <td>13.279</td>\n",
       "      <td>PI34911</td>\n",
       "      <td>1.775</td>\n",
       "      <td>1.0</td>\n",
       "      <td>317.42900</td>\n",
       "    </tr>\n",
       "  </tbody>\n",
       "</table>\n",
       "</div>"
      ],
      "text/plain": [
       "   Tan_14  Tan_13        PI  cp_AMA  Testa     TP_avg\n",
       "0   9.172   3.416  PI152651   0.000    1.0  294.73100\n",
       "1  35.490  21.894   PI17548   0.000    0.0  420.00000\n",
       "2   0.000   0.000   PI24969   1.775    0.0  292.25900\n",
       "3   0.000   0.000  PI329440   4.400    0.0  275.53875\n",
       "4   5.160  13.279   PI34911   1.775    1.0  317.42900"
      ]
     },
     "execution_count": 19,
     "metadata": {},
     "output_type": "execute_result"
    }
   ],
   "source": [
    "tan_and_ama = all_tan.merge(ama_mean, left_on = \"taxa\", right_on =\"PI\")\n",
    "tan_and_ama.head()"
   ]
  },
  {
   "cell_type": "markdown",
   "metadata": {},
   "source": [
    "# T-Test"
   ]
  },
  {
   "cell_type": "code",
   "execution_count": 20,
   "metadata": {},
   "outputs": [
    {
     "data": {
      "text/html": [
       "<div>\n",
       "<style scoped>\n",
       "    .dataframe tbody tr th:only-of-type {\n",
       "        vertical-align: middle;\n",
       "    }\n",
       "\n",
       "    .dataframe tbody tr th {\n",
       "        vertical-align: top;\n",
       "    }\n",
       "\n",
       "    .dataframe thead th {\n",
       "        text-align: right;\n",
       "    }\n",
       "</style>\n",
       "<table border=\"1\" class=\"dataframe\">\n",
       "  <thead>\n",
       "    <tr style=\"text-align: right;\">\n",
       "      <th></th>\n",
       "      <th>T</th>\n",
       "      <th>dof</th>\n",
       "      <th>tail</th>\n",
       "      <th>p-val</th>\n",
       "      <th>CI95%</th>\n",
       "      <th>cohen-d</th>\n",
       "      <th>BF10</th>\n",
       "      <th>power</th>\n",
       "    </tr>\n",
       "  </thead>\n",
       "  <tbody>\n",
       "    <tr>\n",
       "      <th>T-test</th>\n",
       "      <td>1.330267</td>\n",
       "      <td>630</td>\n",
       "      <td>two-sided</td>\n",
       "      <td>0.183912</td>\n",
       "      <td>[-0.59, 3.09]</td>\n",
       "      <td>0.10583</td>\n",
       "      <td>0.21</td>\n",
       "      <td>0.264288</td>\n",
       "    </tr>\n",
       "  </tbody>\n",
       "</table>\n",
       "</div>"
      ],
      "text/plain": [
       "               T  dof       tail     p-val          CI95%  cohen-d  BF10  \\\n",
       "T-test  1.330267  630  two-sided  0.183912  [-0.59, 3.09]  0.10583  0.21   \n",
       "\n",
       "           power  \n",
       "T-test  0.264288  "
      ]
     },
     "execution_count": 20,
     "metadata": {},
     "output_type": "execute_result"
    }
   ],
   "source": [
    "x = tan_and_ama.Tan_14\n",
    "y = tan_and_ama.Tan_13\n",
    "pg.ttest(x, y, correction='auto')"
   ]
  },
  {
   "cell_type": "markdown",
   "metadata": {},
   "source": [
    "# Testa"
   ]
  },
  {
   "cell_type": "code",
   "execution_count": 21,
   "metadata": {},
   "outputs": [
    {
     "name": "stdout",
     "output_type": "stream",
     "text": [
      "           Tannin  Tannins\n",
      "taxa                      \n",
      "PI152651   9.1720   3.4160\n",
      "PI17548   35.4900  21.8940\n",
      "PI24969    0.0000   0.0000\n",
      "PI329440   0.0000   0.0000\n",
      "PI34911    5.1600  13.2790\n",
      "...           ...      ...\n",
      "PI659691   0.0000   0.0000\n",
      "PI659694   0.2840   0.0000\n",
      "PI659695   0.0000   0.0000\n",
      "PI659696  31.0335  29.5875\n",
      "PI659753   0.0000   0.0000\n",
      "\n",
      "[327 rows x 2 columns]\n"
     ]
    }
   ],
   "source": [
    "mean_tan_13_14 = tan14_mean.merge(tan13_mean, on = \"taxa\")\n",
    "print(mean_tan_13_14)"
   ]
  },
  {
   "cell_type": "code",
   "execution_count": 22,
   "metadata": {},
   "outputs": [
    {
     "name": "stdout",
     "output_type": "stream",
     "text": [
      "           Tannin  Tannins\n",
      "taxa                      \n",
      "PI152651   9.1720   3.4160\n",
      "PI17548   35.4900  21.8940\n",
      "PI24969    0.0000   0.0000\n",
      "PI329440   0.0000   0.0000\n",
      "PI34911    5.1600  13.2790\n",
      "...           ...      ...\n",
      "PI659691   0.0000   0.0000\n",
      "PI659694   0.2840   0.0000\n",
      "PI659695   0.0000   0.0000\n",
      "PI659696  31.0335  29.5875\n",
      "PI659753   0.0000   0.0000\n",
      "\n",
      "[327 rows x 2 columns]\n"
     ]
    }
   ],
   "source": [
    "min_tan= mean_tan_13_14.groupby(\"taxa\").mean()\n",
    "print(min_tan)"
   ]
  },
  {
   "cell_type": "code",
   "execution_count": 23,
   "metadata": {},
   "outputs": [
    {
     "data": {
      "text/html": [
       "<div>\n",
       "<style scoped>\n",
       "    .dataframe tbody tr th:only-of-type {\n",
       "        vertical-align: middle;\n",
       "    }\n",
       "\n",
       "    .dataframe tbody tr th {\n",
       "        vertical-align: top;\n",
       "    }\n",
       "\n",
       "    .dataframe thead th {\n",
       "        text-align: right;\n",
       "    }\n",
       "</style>\n",
       "<table border=\"1\" class=\"dataframe\">\n",
       "  <thead>\n",
       "    <tr style=\"text-align: right;\">\n",
       "      <th></th>\n",
       "      <th>Tannin</th>\n",
       "      <th>Tannins</th>\n",
       "      <th>tannin_mean</th>\n",
       "    </tr>\n",
       "    <tr>\n",
       "      <th>taxa</th>\n",
       "      <th></th>\n",
       "      <th></th>\n",
       "      <th></th>\n",
       "    </tr>\n",
       "  </thead>\n",
       "  <tbody>\n",
       "    <tr>\n",
       "      <th>PI152651</th>\n",
       "      <td>9.1720</td>\n",
       "      <td>3.4160</td>\n",
       "      <td>6.2940</td>\n",
       "    </tr>\n",
       "    <tr>\n",
       "      <th>PI17548</th>\n",
       "      <td>35.4900</td>\n",
       "      <td>21.8940</td>\n",
       "      <td>28.6920</td>\n",
       "    </tr>\n",
       "    <tr>\n",
       "      <th>PI24969</th>\n",
       "      <td>0.0000</td>\n",
       "      <td>0.0000</td>\n",
       "      <td>0.0000</td>\n",
       "    </tr>\n",
       "    <tr>\n",
       "      <th>PI329440</th>\n",
       "      <td>0.0000</td>\n",
       "      <td>0.0000</td>\n",
       "      <td>0.0000</td>\n",
       "    </tr>\n",
       "    <tr>\n",
       "      <th>PI34911</th>\n",
       "      <td>5.1600</td>\n",
       "      <td>13.2790</td>\n",
       "      <td>9.2195</td>\n",
       "    </tr>\n",
       "    <tr>\n",
       "      <th>...</th>\n",
       "      <td>...</td>\n",
       "      <td>...</td>\n",
       "      <td>...</td>\n",
       "    </tr>\n",
       "    <tr>\n",
       "      <th>PI659691</th>\n",
       "      <td>0.0000</td>\n",
       "      <td>0.0000</td>\n",
       "      <td>0.0000</td>\n",
       "    </tr>\n",
       "    <tr>\n",
       "      <th>PI659694</th>\n",
       "      <td>0.2840</td>\n",
       "      <td>0.0000</td>\n",
       "      <td>0.1420</td>\n",
       "    </tr>\n",
       "    <tr>\n",
       "      <th>PI659695</th>\n",
       "      <td>0.0000</td>\n",
       "      <td>0.0000</td>\n",
       "      <td>0.0000</td>\n",
       "    </tr>\n",
       "    <tr>\n",
       "      <th>PI659696</th>\n",
       "      <td>31.0335</td>\n",
       "      <td>29.5875</td>\n",
       "      <td>30.3105</td>\n",
       "    </tr>\n",
       "    <tr>\n",
       "      <th>PI659753</th>\n",
       "      <td>0.0000</td>\n",
       "      <td>0.0000</td>\n",
       "      <td>0.0000</td>\n",
       "    </tr>\n",
       "  </tbody>\n",
       "</table>\n",
       "<p>327 rows × 3 columns</p>\n",
       "</div>"
      ],
      "text/plain": [
       "           Tannin  Tannins  tannin_mean\n",
       "taxa                                   \n",
       "PI152651   9.1720   3.4160       6.2940\n",
       "PI17548   35.4900  21.8940      28.6920\n",
       "PI24969    0.0000   0.0000       0.0000\n",
       "PI329440   0.0000   0.0000       0.0000\n",
       "PI34911    5.1600  13.2790       9.2195\n",
       "...           ...      ...          ...\n",
       "PI659691   0.0000   0.0000       0.0000\n",
       "PI659694   0.2840   0.0000       0.1420\n",
       "PI659695   0.0000   0.0000       0.0000\n",
       "PI659696  31.0335  29.5875      30.3105\n",
       "PI659753   0.0000   0.0000       0.0000\n",
       "\n",
       "[327 rows x 3 columns]"
      ]
     },
     "execution_count": 23,
     "metadata": {},
     "output_type": "execute_result"
    }
   ],
   "source": [
    "col =mean_tan_13_14.loc[: , \"Tannin\":\"Tannins\"]\n",
    "mean_tan_13_14['tannin_mean']=col.mean(axis=1)\n",
    "mean_tan_13_14"
   ]
  },
  {
   "cell_type": "code",
   "execution_count": 24,
   "metadata": {},
   "outputs": [
    {
     "data": {
      "text/html": [
       "<div>\n",
       "<style scoped>\n",
       "    .dataframe tbody tr th:only-of-type {\n",
       "        vertical-align: middle;\n",
       "    }\n",
       "\n",
       "    .dataframe tbody tr th {\n",
       "        vertical-align: top;\n",
       "    }\n",
       "\n",
       "    .dataframe thead th {\n",
       "        text-align: right;\n",
       "    }\n",
       "</style>\n",
       "<table border=\"1\" class=\"dataframe\">\n",
       "  <thead>\n",
       "    <tr style=\"text-align: right;\">\n",
       "      <th></th>\n",
       "      <th>Tannin</th>\n",
       "      <th>Tannins</th>\n",
       "      <th>tannin_mean</th>\n",
       "      <th>PI</th>\n",
       "      <th>cp_AMA</th>\n",
       "      <th>Testa</th>\n",
       "      <th>TP_avg</th>\n",
       "    </tr>\n",
       "  </thead>\n",
       "  <tbody>\n",
       "    <tr>\n",
       "      <th>0</th>\n",
       "      <td>9.1720</td>\n",
       "      <td>3.4160</td>\n",
       "      <td>6.2940</td>\n",
       "      <td>PI152651</td>\n",
       "      <td>0.000</td>\n",
       "      <td>1.0</td>\n",
       "      <td>294.73100</td>\n",
       "    </tr>\n",
       "    <tr>\n",
       "      <th>1</th>\n",
       "      <td>35.4900</td>\n",
       "      <td>21.8940</td>\n",
       "      <td>28.6920</td>\n",
       "      <td>PI17548</td>\n",
       "      <td>0.000</td>\n",
       "      <td>0.0</td>\n",
       "      <td>420.00000</td>\n",
       "    </tr>\n",
       "    <tr>\n",
       "      <th>2</th>\n",
       "      <td>0.0000</td>\n",
       "      <td>0.0000</td>\n",
       "      <td>0.0000</td>\n",
       "      <td>PI24969</td>\n",
       "      <td>1.775</td>\n",
       "      <td>0.0</td>\n",
       "      <td>292.25900</td>\n",
       "    </tr>\n",
       "    <tr>\n",
       "      <th>3</th>\n",
       "      <td>0.0000</td>\n",
       "      <td>0.0000</td>\n",
       "      <td>0.0000</td>\n",
       "      <td>PI329440</td>\n",
       "      <td>4.400</td>\n",
       "      <td>0.0</td>\n",
       "      <td>275.53875</td>\n",
       "    </tr>\n",
       "    <tr>\n",
       "      <th>4</th>\n",
       "      <td>5.1600</td>\n",
       "      <td>13.2790</td>\n",
       "      <td>9.2195</td>\n",
       "      <td>PI34911</td>\n",
       "      <td>1.775</td>\n",
       "      <td>1.0</td>\n",
       "      <td>317.42900</td>\n",
       "    </tr>\n",
       "    <tr>\n",
       "      <th>...</th>\n",
       "      <td>...</td>\n",
       "      <td>...</td>\n",
       "      <td>...</td>\n",
       "      <td>...</td>\n",
       "      <td>...</td>\n",
       "      <td>...</td>\n",
       "      <td>...</td>\n",
       "    </tr>\n",
       "    <tr>\n",
       "      <th>311</th>\n",
       "      <td>0.0000</td>\n",
       "      <td>0.0000</td>\n",
       "      <td>0.0000</td>\n",
       "      <td>PI659691</td>\n",
       "      <td>0.000</td>\n",
       "      <td>0.0</td>\n",
       "      <td>187.63575</td>\n",
       "    </tr>\n",
       "    <tr>\n",
       "      <th>312</th>\n",
       "      <td>0.2840</td>\n",
       "      <td>0.0000</td>\n",
       "      <td>0.1420</td>\n",
       "      <td>PI659694</td>\n",
       "      <td>0.000</td>\n",
       "      <td>0.0</td>\n",
       "      <td>204.11050</td>\n",
       "    </tr>\n",
       "    <tr>\n",
       "      <th>313</th>\n",
       "      <td>0.0000</td>\n",
       "      <td>0.0000</td>\n",
       "      <td>0.0000</td>\n",
       "      <td>PI659695</td>\n",
       "      <td>0.000</td>\n",
       "      <td>0.0</td>\n",
       "      <td>262.61350</td>\n",
       "    </tr>\n",
       "    <tr>\n",
       "      <th>314</th>\n",
       "      <td>31.0335</td>\n",
       "      <td>29.5875</td>\n",
       "      <td>30.3105</td>\n",
       "      <td>PI659696</td>\n",
       "      <td>0.000</td>\n",
       "      <td>1.0</td>\n",
       "      <td>420.00000</td>\n",
       "    </tr>\n",
       "    <tr>\n",
       "      <th>315</th>\n",
       "      <td>0.0000</td>\n",
       "      <td>0.0000</td>\n",
       "      <td>0.0000</td>\n",
       "      <td>PI659753</td>\n",
       "      <td>0.000</td>\n",
       "      <td>0.0</td>\n",
       "      <td>312.38950</td>\n",
       "    </tr>\n",
       "  </tbody>\n",
       "</table>\n",
       "<p>316 rows × 7 columns</p>\n",
       "</div>"
      ],
      "text/plain": [
       "      Tannin  Tannins  tannin_mean        PI  cp_AMA  Testa     TP_avg\n",
       "0     9.1720   3.4160       6.2940  PI152651   0.000    1.0  294.73100\n",
       "1    35.4900  21.8940      28.6920   PI17548   0.000    0.0  420.00000\n",
       "2     0.0000   0.0000       0.0000   PI24969   1.775    0.0  292.25900\n",
       "3     0.0000   0.0000       0.0000  PI329440   4.400    0.0  275.53875\n",
       "4     5.1600  13.2790       9.2195   PI34911   1.775    1.0  317.42900\n",
       "..       ...      ...          ...       ...     ...    ...        ...\n",
       "311   0.0000   0.0000       0.0000  PI659691   0.000    0.0  187.63575\n",
       "312   0.2840   0.0000       0.1420  PI659694   0.000    0.0  204.11050\n",
       "313   0.0000   0.0000       0.0000  PI659695   0.000    0.0  262.61350\n",
       "314  31.0335  29.5875      30.3105  PI659696   0.000    1.0  420.00000\n",
       "315   0.0000   0.0000       0.0000  PI659753   0.000    0.0  312.38950\n",
       "\n",
       "[316 rows x 7 columns]"
      ]
     },
     "execution_count": 24,
     "metadata": {},
     "output_type": "execute_result"
    }
   ],
   "source": [
    "mean_tan_and_ama = mean_tan_13_14.merge(ama_mean, left_on = \"taxa\", right_on =\"PI\")\n",
    "mean_tan_and_ama"
   ]
  },
  {
   "cell_type": "markdown",
   "metadata": {},
   "source": [
    "# Figure S3"
   ]
  },
  {
   "cell_type": "code",
   "execution_count": null,
   "metadata": {},
   "outputs": [
    {
     "data": {
      "image/png": "[encoded data removed]",
      "text/plain": [
       "<Figure size 432x288 with 1 Axes>"
      ]
     },
     "metadata": {
      "needs_background": "light"
     },
     "output_type": "display_data"
    }
   ],
   "source": [
    "testa_ama_violin=sns.violinplot(x=\"Testa\", y=\"cp_AMA\", data=clostridium_df)\n",
    "testa_ama_violin.set(ylabel=\"Inhibition zone(mm)\")\n",
    "plt.xticks([0,1])\n",
    "testa_ama_violin.figure.savefig(\"testa_ama_violin.png\", bbox_inches='tight', dpi=600)"
   ]
  },
  {
   "cell_type": "markdown",
   "metadata": {},
   "source": [
    "# Figure2a"
   ]
  },
  {
   "cell_type": "code",
   "execution_count": null,
   "metadata": {},
   "outputs": [],
   "source": [
    "tp_ama_joint = sns.jointplot(x=\"cp_AMA\", y=\"TP_avg\", data=mean_tan_and_ama, kind=\"reg\", stat_func=R2, color=\"darkseagreen\").annotate(stats.pearsonr)\n",
    "tp_ama_joint.set_axis_labels( \"Inhibition Zone (mm)\",\"Total phenol [GAE/g]]\")\n",
    "tp_ama_joint.savefig(\"tp_ama_joint.png\", bbox_inches='tight', dpi=600)"
   ]
  },
  {
   "cell_type": "markdown",
   "metadata": {},
   "source": [
    "# Figure2b"
   ]
  },
  {
   "cell_type": "code",
   "execution_count": null,
   "metadata": {},
   "outputs": [],
   "source": [
    "tan_ama_joint = sns.jointplot(x=\"cp_AMA\", y=\"tannin_mean\", data=mean_tan_and_ama, kind=\"reg\", stat_func=R2, color=\"darkseagreen\").annotate(stats.pearsonr)\n",
    "tan_ama_joint.set_axis_labels( \"Inhibition Zone (mm)\",\"Tannins [mg of CE/g]\")\n",
    "tan_ama_joint.savefig(\"tan_ama_joint.png\", bbox_inches='tight', dpi=600)"
   ]
  },
  {
   "cell_type": "markdown",
   "metadata": {},
   "source": [
    "# Salmonella "
   ]
  },
  {
   "cell_type": "code",
   "execution_count": null,
   "metadata": {},
   "outputs": [],
   "source": [
    "salmonella_df=pd.read_excel(\"../data/Supplemental_F2.xlsx\", sheet_name= \"Salmonella\")\n",
    "salmonella_df.head()"
   ]
  },
  {
   "cell_type": "code",
   "execution_count": null,
   "metadata": {},
   "outputs": [],
   "source": [
    "salmonella_df.dropna(inplace=True)\n",
    "salmonella_df[\"Testa\"] = salmonella_df.Testa.astype(int)\n",
    "salmonella_df.Tannins.replace(\"ND\", 0, inplace=True)\n",
    "salmonella_df.head()"
   ]
  },
  {
   "cell_type": "markdown",
   "metadata": {},
   "source": [
    "# Table S2"
   ]
  },
  {
   "cell_type": "code",
   "execution_count": null,
   "metadata": {},
   "outputs": [],
   "source": [
    "pd.crosstab(np.array(salmonella_df.Testa), \n",
    "            [np.array(salmonella_df.se_AMA)])"
   ]
  },
  {
   "cell_type": "code",
   "execution_count": null,
   "metadata": {},
   "outputs": [],
   "source": [
    "se_mean = salmonella_df.groupby(\"PI\").mean()\n",
    "se_mean.reset_index(inplace=True)\n",
    "se_mean.head()"
   ]
  },
  {
   "cell_type": "code",
   "execution_count": null,
   "metadata": {},
   "outputs": [],
   "source": [
    "tan_and_se = all_tan.merge(se_mean, left_on = \"taxa\", right_on =\"PI\")\n",
    "tan_and_se.head()"
   ]
  },
  {
   "cell_type": "code",
   "execution_count": null,
   "metadata": {},
   "outputs": [],
   "source": [
    "mean_tan_and_seama = mean_tan_13_14.merge(se_mean, left_on = \"taxa\", right_on =\"PI\")\n",
    "mean_tan_and_seama"
   ]
  },
  {
   "cell_type": "markdown",
   "metadata": {},
   "source": [
    "# Figure S2"
   ]
  },
  {
   "cell_type": "code",
   "execution_count": null,
   "metadata": {},
   "outputs": [],
   "source": [
    "sns.set_style(\"white\")\n",
    "se_joint = sns.jointplot(x=\"se_AMA\", y=\"tannin_mean\", data=mean_tan_and_seama, kind=\"reg\", stat_func=R2, color=\"coral\").annotate(stats.pearsonr)\n",
    "se_joint.set_axis_labels( \"Antimicrobial activity\",\"Tannins [mg of CE/g]\")\n",
    "plt.xticks([0,0.5,1])\n",
    "se_joint.savefig(\"se_joint.png\", bbox_inches='tight', dpi=600)"
   ]
  },
  {
   "cell_type": "markdown",
   "metadata": {},
   "source": [
    "# Figure S1"
   ]
  },
  {
   "cell_type": "code",
   "execution_count": null,
   "metadata": {},
   "outputs": [],
   "source": [
    "sns.set_style(\"white\")\n",
    "se_TP_joint = sns.jointplot(x=\"se_AMA\", y=\"TP_avg\", data=mean_tan_and_seama, kind=\"reg\", stat_func=R2, color=\"coral\").annotate(stats.pearsonr)\n",
    "se_TP_joint.set_axis_labels( \"Antimicrobial activity\",\"Total phenol [GAE/g]\")\n",
    "plt.xticks([0,0.5,1])\n",
    "se_TP_joint.savefig(\"se_TP_joint.png\", bbox_inches='tight', dpi=600)"
   ]
  },
  {
   "cell_type": "markdown",
   "metadata": {},
   "source": [
    "# Germplasm filtering"
   ]
  },
  {
   "cell_type": "code",
   "execution_count": null,
   "metadata": {},
   "outputs": [],
   "source": [
    "ama = list(clostridium_df[\"cp_AMA\"])\n",
    "new_ama = []\n",
    "for i in ama:\n",
    "    if i < 1:\n",
    "        new_ama.append(\"none\")\n",
    "    if ((i >3.5) and (i<4)):\n",
    "        new_ama.append(\"weak\")\n",
    "    if (i>=4):\n",
    "        new_ama.append(\"strong\")\n",
    "clostridium_df[\"AMA\"] = new_ama\n",
    "set(new_ama)"
   ]
  },
  {
   "cell_type": "code",
   "execution_count": null,
   "metadata": {},
   "outputs": [],
   "source": [
    "rep_agreement = clostridium_df.groupby(\"PI\").min()\n",
    "rep_agreement = rep_agreement[rep_agreement[\"cp_AMA\"] != 0]\n",
    "print(rep_agreement)"
   ]
  },
  {
   "cell_type": "markdown",
   "metadata": {},
   "source": [
    "# Table 3"
   ]
  },
  {
   "cell_type": "code",
   "execution_count": null,
   "metadata": {},
   "outputs": [],
   "source": [
    "pd.crosstab(np.array(clostridium_df.Testa), \n",
    "            [np.array(clostridium_df.AMA)])"
   ]
  },
  {
   "cell_type": "code",
   "execution_count": null,
   "metadata": {},
   "outputs": [],
   "source": [
    "strong = rep_agreement[rep_agreement.AMA.str.contains(\"strong\", case=False)]\n",
    "print(strong)"
   ]
  },
  {
   "cell_type": "code",
   "execution_count": null,
   "metadata": {},
   "outputs": [],
   "source": [
    "pis = [\"PI533869\",\"PI533871\",\"PI533940\",\"PI533948\",\"PI533979\",\n",
    "       \"PI534114\",\"PI534115\",\"PI542406\",\"PI576393\",\"PI595739\",\n",
    "       \"PI597957\",\"PI597972\",\"PI641836\",\"PI642998\",\"PI655980\",\n",
    "       \"PI655983\",\"PI655995\",\"PI656014\",\"PI656088\",\"PI656112\"]"
   ]
  },
  {
   "cell_type": "code",
   "execution_count": null,
   "metadata": {},
   "outputs": [],
   "source": [
    "pi_values = clostridium_df[clostridium_df.PI.isin(pis)].sort_values(by=\"PI\")\n",
    "print(pi_values.PI.unique())"
   ]
  },
  {
   "cell_type": "markdown",
   "metadata": {},
   "source": [
    "# Compositional data"
   ]
  },
  {
   "cell_type": "code",
   "execution_count": null,
   "metadata": {},
   "outputs": [],
   "source": [
    "nir_raw = pd.read_excel(\"../data/Supplemental_F1.xlsx\", index_col=0)\n",
    "columns = [\"_\".join(i.split()) for i in list(nir_raw.columns)]\n",
    "nir_raw.columns = columns\n",
    "nir_raw.head()"
   ]
  },
  {
   "cell_type": "code",
   "execution_count": null,
   "metadata": {},
   "outputs": [],
   "source": [
    "numeric_columns = nir_raw.columns[3:len(nir_raw.columns)-4]"
   ]
  },
  {
   "cell_type": "code",
   "execution_count": null,
   "metadata": {},
   "outputs": [],
   "source": [
    "fl17_ama = pd.read_excel(\"../data/Supplemental_F1.xlsx\", index_col=0)\n",
    "print(fl17_ama.shape)\n",
    "fl17_ama.head()"
   ]
  },
  {
   "cell_type": "code",
   "execution_count": null,
   "metadata": {},
   "outputs": [],
   "source": [
    " def r(x, y):\n",
    "     return stats.pearsonr(x, y)\n",
    "\n",
    " p_values = []\n",
    "\n",
    " for i in list(numeric_columns.values):\n",
    "     if i not in [\"Sodium\"]:\n",
    "         sns.jointplot(x=\"cp_AMA\", \n",
    "                       y=i, \n",
    "                       data=fl17_ama, \n",
    "                       kind=\"reg\", \n",
    "                       marginal_kws=dict(kde=False), \n",
    "                       stat_func=r)\n",
    "         p_values.append(r(fl17_ama.cp_AMA, fl17_ama.loc[:,i]))\n",
    "         plt.show()"
   ]
  },
  {
   "cell_type": "code",
   "execution_count": null,
   "metadata": {},
   "outputs": [],
   "source": [
    "corr_pval = pd.DataFrame(p_values, columns=[\"r\",\"pvalue\"])\n",
    "corr_pval.head()"
   ]
  },
  {
   "cell_type": "code",
   "execution_count": null,
   "metadata": {},
   "outputs": [],
   "source": [
    "sms.stats.multipletests(corr_pval[\"pvalue\"], alpha=0.05, method=\"fdr_bh\")"
   ]
  },
  {
   "cell_type": "markdown",
   "metadata": {},
   "source": [
    "# Comparing GWAS"
   ]
  },
  {
   "cell_type": "code",
   "execution_count": null,
   "metadata": {},
   "outputs": [],
   "source": [
    "amGWAS = pd.read_csv(\"/panicle/lindsay/gemma/thin/output/plink.pruned.assoc.txt\", sep='\\t', lineterminator='\\n')\n",
    "amGWAS= amGWAS[[\"rs\", \"p_wald\"]]\n",
    "amGWAS.head()"
   ]
  },
  {
   "cell_type": "code",
   "execution_count": null,
   "metadata": {},
   "outputs": [],
   "source": [
    "tcGWAS = tcGWAS = pd.read_csv(\"/panicle/lindsay/gemma_tan_covariate/output/plink.pruned_ama_tan_BLUP.assoc.txt\", sep='\\t', lineterminator='\\n')\n",
    "tcGWAS = tcGWAS[[\"rs\", \"p_wald\"]]\n",
    "tcGWAS.head()"
   ]
  },
  {
   "cell_type": "code",
   "execution_count": null,
   "metadata": {},
   "outputs": [],
   "source": [
    "dfs = [amGWAS, tcGWAS]\n",
    "\n",
    "gwas = reduce(lambda left, right: pd.merge(left, right, on = \"rs\"), dfs)\n",
    "\n",
    "gwas.head()\n"
   ]
  },
  {
   "cell_type": "code",
   "execution_count": null,
   "metadata": {},
   "outputs": [],
   "source": [
    "x = gwas.p_wald_x\n",
    "y = gwas.p_wald_y\n",
    "pg.ttest(x, y, correction='auto')"
   ]
  },
  {
   "cell_type": "markdown",
   "metadata": {},
   "source": [
    "# Figure S7"
   ]
  },
  {
   "cell_type": "code",
   "execution_count": 2,
   "metadata": {},
   "outputs": [
    {
     "data": {
      "text/html": [
       "<div>\n",
       "<style scoped>\n",
       "    .dataframe tbody tr th:only-of-type {\n",
       "        vertical-align: middle;\n",
       "    }\n",
       "\n",
       "    .dataframe tbody tr th {\n",
       "        vertical-align: top;\n",
       "    }\n",
       "\n",
       "    .dataframe thead th {\n",
       "        text-align: right;\n",
       "    }\n",
       "</style>\n",
       "<table border=\"1\" class=\"dataframe\">\n",
       "  <thead>\n",
       "    <tr style=\"text-align: right;\">\n",
       "      <th></th>\n",
       "      <th>PI</th>\n",
       "      <th>cp_AMA</th>\n",
       "      <th>S2_8924006</th>\n",
       "      <th>S10_56476103</th>\n",
       "    </tr>\n",
       "  </thead>\n",
       "  <tbody>\n",
       "    <tr>\n",
       "      <th>0</th>\n",
       "      <td>pi152651</td>\n",
       "      <td>0.000</td>\n",
       "      <td>0/0</td>\n",
       "      <td>./.</td>\n",
       "    </tr>\n",
       "    <tr>\n",
       "      <th>1</th>\n",
       "      <td>pi17548</td>\n",
       "      <td>0.000</td>\n",
       "      <td>0/0</td>\n",
       "      <td>0/0</td>\n",
       "    </tr>\n",
       "    <tr>\n",
       "      <th>2</th>\n",
       "      <td>pi24969</td>\n",
       "      <td>1.775</td>\n",
       "      <td>0/0</td>\n",
       "      <td>./.</td>\n",
       "    </tr>\n",
       "    <tr>\n",
       "      <th>3</th>\n",
       "      <td>pi329435</td>\n",
       "      <td>1.775</td>\n",
       "      <td>0/0</td>\n",
       "      <td>./.</td>\n",
       "    </tr>\n",
       "    <tr>\n",
       "      <th>4</th>\n",
       "      <td>pi329440</td>\n",
       "      <td>4.400</td>\n",
       "      <td>0/0</td>\n",
       "      <td>0/0</td>\n",
       "    </tr>\n",
       "  </tbody>\n",
       "</table>\n",
       "</div>"
      ],
      "text/plain": [
       "         PI  cp_AMA S2_8924006 S10_56476103\n",
       "0  pi152651   0.000        0/0          ./.\n",
       "1   pi17548   0.000        0/0          0/0\n",
       "2   pi24969   1.775        0/0          ./.\n",
       "3  pi329435   1.775        0/0          ./.\n",
       "4  pi329440   4.400        0/0          0/0"
      ]
     },
     "execution_count": 2,
     "metadata": {},
     "output_type": "execute_result"
    }
   ],
   "source": [
    "df= pd.read_csv(\"../data/cp_ama_genotypes.csv\")\n",
    "df = df.rename(columns={\"Unnamed: 0\":\"PI\", \"0\":\"S2_8924006\", \"1\":\"S10_56476103\"})\n",
    "df = df[df.S10_56476103 != \"0/1\"]\n",
    "df.head()"
   ]
  },
  {
   "cell_type": "code",
   "execution_count": 3,
   "metadata": {},
   "outputs": [
    {
     "data": {
      "text/plain": [
       "(362, 4)"
      ]
     },
     "execution_count": 3,
     "metadata": {},
     "output_type": "execute_result"
    }
   ],
   "source": [
    "df= df.replace({\"./.\": np.nan})\n",
    "df.S2_8924006 = df.S2_8924006.replace({\"0/0\":\"T/T\", \"1/1\":\"C/C\"})\n",
    "df.S10_56476103 = df.S10_56476103.replace({\"0/0\":\"G/G\", \"1/1\":\"T/T\"})\n",
    "df.head()\n",
    "df.shape"
   ]
  },
  {
   "cell_type": "code",
   "execution_count": 4,
   "metadata": {},
   "outputs": [
    {
     "data": {
      "text/plain": [
       "[Text(0, 0.5, 'Inhibition zone (mm)')]"
      ]
     },
     "execution_count": 4,
     "metadata": {},
     "output_type": "execute_result"
    },
    {
     "data": {
      "image/png": "[encoded data removed]",
      "text/plain": [
       "<Figure size 432x288 with 1 Axes>"
      ]
     },
     "metadata": {
      "needs_background": "light"
     },
     "output_type": "display_data"
    }
   ],
   "source": [
    "ax = snpplot = sns.swarmplot(x=\"S2_8924006\", y=\"cp_AMA\", hue=\"S10_56476103\", data = df,\n",
    "                       dodge=True)\n",
    "ax =sns.boxplot(x=\"S2_8924006\", y=\"cp_AMA\", hue = \"S10_56476103\", data=df, \n",
    "                showmeans=True,showcaps=False,boxprops={'facecolor':'None'},\n",
    "                 showfliers=False,whiskerprops={'linewidth':0}, ax=ax)\n",
    "ax.set(ylabel=\"Inhibition zone (mm)\")\n"
   ]
  },
  {
   "cell_type": "code",
   "execution_count": null,
   "metadata": {},
   "outputs": [],
   "source": []
  }
 ],
 "metadata": {
  "kernelspec": {
   "display_name": "Python3 -- env",
   "language": "python",
   "name": "python3"
  },
  "language_info": {
   "codemirror_mode": {
    "name": "ipython",
    "version": 3
   },
   "file_extension": ".py",
   "mimetype": "text/x-python",
   "name": "python",
   "nbconvert_exporter": "python",
   "pygments_lexer": "ipython3",
   "version": "3.8.1"
  }
 },
 "nbformat": 4,
 "nbformat_minor": 4
}
